{
 "cells": [
  {
   "cell_type": "code",
   "execution_count": 2,
   "id": "fa9711a0",
   "metadata": {},
   "outputs": [
    {
     "name": "stdout",
     "output_type": "stream",
     "text": [
      "Collecting pysam\n",
      "  Downloading pysam-0.23.0-cp312-cp312-macosx_10_13_x86_64.whl.metadata (1.6 kB)\n",
      "Downloading pysam-0.23.0-cp312-cp312-macosx_10_13_x86_64.whl (8.6 MB)\n",
      "\u001b[2K   \u001b[90m━━━━━━━━━━━━━━━━━━━━━━━━━━━━━━━━━━━━━━━━\u001b[0m \u001b[32m8.6/8.6 MB\u001b[0m \u001b[31m18.8 MB/s\u001b[0m eta \u001b[36m0:00:00\u001b[0ma \u001b[36m0:00:01\u001b[0m\n",
      "\u001b[?25hInstalling collected packages: pysam\n",
      "Successfully installed pysam-0.23.0\n",
      "Note: you may need to restart the kernel to use updated packages.\n"
     ]
    }
   ],
   "source": [
    "pip install pysam\n"
   ]
  },
  {
   "cell_type": "code",
   "execution_count": 20,
   "id": "7d1931a7",
   "metadata": {},
   "outputs": [],
   "source": [
    "import pysam\n",
    "from collections import defaultdict\n",
    "import re\n",
    "import os"
   ]
  },
  {
   "cell_type": "code",
   "execution_count": 25,
   "id": "628e7702",
   "metadata": {},
   "outputs": [],
   "source": [
    "# --- Input files ---\n",
    "bam_files = {\n",
    "    \"Pro\": \"/Volumes/projects-t3/SerreDLab-3/fdumetz/Leishmania/featurecounts/Ld1S_3ONT_SL+polyA_monocistron.bam\",\n",
    "    \"Ama\": \"/Volumes/projects-t3/SerreDLab-3/fdumetz/Leishmania/featurecounts/Ld1S_Ama_monocistron_SL.bam\",\n",
    "    \"All\": \"/Volumes/projects-t3/SerreDLab-3/fdumetz/Leishmania/Ld_annotation/Fuzznuc/Ld_3ONT_asmfinal.bam\"\n",
    "}\n",
    "gff3_file = \"/Volumes/projects-t3/SerreDLab-3/fdumetz/Leishmania/featurecounts/Ld1S_pre-final4.gff3\"\n",
    "output_file = \"/Volumes/projects-t3/SerreDLab-3/fdumetz/Leishmania/featurecounts/transcript_counts.txt\""
   ]
  },
  {
   "cell_type": "code",
   "execution_count": 26,
   "id": "fe785d8d",
   "metadata": {},
   "outputs": [
    {
     "name": "stdout",
     "output_type": "stream",
     "text": [
      "Parsing GFF3...\n",
      "Found 8466 transcripts.\n",
      "Processing Pro...\n",
      "Processing Ama...\n",
      "Processing All...\n",
      "Writing output...\n",
      "Done. Output written to /Volumes/projects-t3/SerreDLab-3/fdumetz/Leishmania/featurecounts/transcript_counts.txt\n"
     ]
    }
   ],
   "source": [
    "# --- Parse GFF3 ---\n",
    "print(\"Parsing GFF3...\")\n",
    "transcript_exons = defaultdict(list)\n",
    "\n",
    "with open(gff3_file, 'r') as gff:\n",
    "    for line in gff:\n",
    "        if line.startswith(\"#\"):\n",
    "            continue\n",
    "        fields = line.strip().split(\"\\t\")\n",
    "        if len(fields) < 9 or fields[2].lower() != \"exon\":\n",
    "            continue\n",
    "        chrom, _, _, start, end, _, strand, _, attr = fields\n",
    "        start, end = int(start), int(end)\n",
    "\n",
    "        tid_match = re.search(r'transcript_id[ =\"]*([^\";\\s]+)', attr)\n",
    "        if not tid_match:\n",
    "            tid_match = re.search(r'Parent=([^\";\\s]+)', attr)\n",
    "        if not tid_match:\n",
    "            tid_match = re.search(r'ID=([^\";\\s]+)', attr)\n",
    "        if tid_match:\n",
    "            tid = tid_match.group(1)\n",
    "            transcript_exons[tid].append((chrom, start, end))\n",
    "\n",
    "print(f\"Found {len(transcript_exons)} transcripts.\")\n",
    "\n",
    "# --- Count reads per transcript per BAM ---\n",
    "all_counts = defaultdict(lambda: defaultdict(int))\n",
    "\n",
    "for sample_name, bam_path in bam_files.items():\n",
    "    print(f\"Processing {sample_name}...\")\n",
    "\n",
    "    bam = pysam.AlignmentFile(bam_path, \"rb\")\n",
    "    for tid, exons in transcript_exons.items():\n",
    "        seen_reads = set()\n",
    "        for chrom, start, end in exons:\n",
    "            try:\n",
    "                for read in bam.fetch(chrom, start - 1, end):\n",
    "                    if read.is_unmapped:\n",
    "                        continue\n",
    "                    if read.query_name not in seen_reads:\n",
    "                        if read.reference_start < end and read.reference_end > start:\n",
    "                            all_counts[tid][sample_name] += 1\n",
    "                            seen_reads.add(read.query_name)\n",
    "            except ValueError:\n",
    "                continue\n",
    "    bam.close()\n",
    "\n",
    "# --- Write output matrix ---\n",
    "print(\"Writing output...\")\n",
    "sample_names = list(bam_files.keys())\n",
    "with open(output_file, \"w\") as out:\n",
    "    out.write(\"transcript_id\\t\" + \"\\t\".join(sample_names) + \"\\n\")\n",
    "    for tid in sorted(transcript_exons):\n",
    "        counts = [str(all_counts[tid][s]) for s in sample_names]\n",
    "        out.write(f\"{tid}\\t\" + \"\\t\".join(counts) + \"\\n\")\n",
    "\n",
    "print(f\"Done. Output written to {output_file}\")"
   ]
  }
 ],
 "metadata": {
  "kernelspec": {
   "display_name": "base",
   "language": "python",
   "name": "python3"
  },
  "language_info": {
   "codemirror_mode": {
    "name": "ipython",
    "version": 3
   },
   "file_extension": ".py",
   "mimetype": "text/x-python",
   "name": "python",
   "nbconvert_exporter": "python",
   "pygments_lexer": "ipython3",
   "version": "3.12.2"
  }
 },
 "nbformat": 4,
 "nbformat_minor": 5
}
